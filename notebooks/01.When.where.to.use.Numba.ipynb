{
 "cells": [
  {
   "cell_type": "markdown",
   "metadata": {},
   "source": [
    "# Intro to profiling"
   ]
  },
  {
   "cell_type": "markdown",
   "metadata": {},
   "source": [
    "Python's dirty little secret is that it can be made to run pretty fast.  \n",
    "\n",
    "The bare-metal HPC people will be angrily tweeting at me now, or rather, they would be if they could get their wireless drivers working.\n",
    "\n",
    "Still, there are some things you *really* don't want to do in Python.  Nested loops are usually a bad idea.  But often you won't know where your code is slowing down just by looking at it and trying to accelerate everything can be a waste of time.  (Developer time, that is, both now and in the future: you incur technical debt if you unintentionally obfuscate code to make it faster when it doesn't need to be).\n",
    "\n",
    "The first step is always to find the bottlenecks in your code, via _profiling_: analyzing your code by measuring the execution time of its parts."
   ]
  },
  {
   "cell_type": "markdown",
   "metadata": {},
   "source": [
    "Tools\n",
    "-----\n",
    "\n",
    "2. `cProfile`\n",
    "1. [`line_profiler`](https://github.com/rkern/line_profiler)\n",
    "3. `timeit`\n",
    "\n",
    "**Note**:\n",
    "If you haven't already installed it, you can do\n",
    "\n",
    "```console\n",
    "conda install line_profiler\n",
    "```\n",
    "\n",
    "or\n",
    "\n",
    "```console\n",
    "pip install line_profiler\n",
    "```"
   ]
  },
  {
   "cell_type": "markdown",
   "metadata": {},
   "source": [
    "## Some bad code"
   ]
  },
  {
   "cell_type": "markdown",
   "metadata": {},
   "source": [
    "\n",
    "Here's a bit of code guaranteed to perform poorly: it sleeps for 1.5 seconds after doing any work! We will profile it and see where we might be able to help."
   ]
  },
  {
   "cell_type": "code",
   "execution_count": 1,
   "metadata": {},
   "outputs": [],
   "source": [
    "import numpy\n",
    "from time import sleep\n",
    "\n",
    "def bad_call(dude):\n",
    "    sleep(.5)\n",
    "    \n",
    "def worse_call(dude):\n",
    "    sleep(1)\n",
    "    \n",
    "def sumulate(foo):\n",
    "    if not isinstance(foo, int):\n",
    "        return\n",
    "    \n",
    "    a = numpy.random.random((1000, 1000))\n",
    "    a @ a\n",
    "    \n",
    "    ans = 0\n",
    "    for i in range(foo):\n",
    "        ans += i\n",
    "        \n",
    "    bad_call(ans)\n",
    "    worse_call(ans)\n",
    "        \n",
    "    return ans"
   ]
  },
  {
   "cell_type": "code",
   "execution_count": 2,
   "metadata": {},
   "outputs": [
    {
     "data": {
      "text/plain": [
       "11175"
      ]
     },
     "execution_count": 2,
     "metadata": {},
     "output_type": "execute_result"
    }
   ],
   "source": [
    "sumulate(150)"
   ]
  },
  {
   "cell_type": "markdown",
   "metadata": {},
   "source": [
    "## using `cProfile`"
   ]
  },
  {
   "cell_type": "markdown",
   "metadata": {},
   "source": [
    "[`cProfile`](https://docs.python.org/3.4/library/profile.html#module-cProfile) is the built-in profiler in Python (available since Python 2.5).  It provides a function-by-function report of execution time. First import the module, then usage is simply a call to `cProfile.run()` with your code as argument. It will print out a list of all the functions that were called, with the number of calls and the time spent in each."
   ]
  },
  {
   "cell_type": "code",
   "execution_count": 3,
   "metadata": {},
   "outputs": [],
   "source": [
    "import cProfile"
   ]
  },
  {
   "cell_type": "code",
   "execution_count": 4,
   "metadata": {},
   "outputs": [
    {
     "name": "stdout",
     "output_type": "stream",
     "text": [
      "         10 function calls in 1.572 seconds\n",
      "\n",
      "   Ordered by: standard name\n",
      "\n",
      "   ncalls  tottime  percall  cumtime  percall filename:lineno(function)\n",
      "        1    0.055    0.055    1.571    1.571 <ipython-input-1-5c3dbf5afb25>:10(sumulate)\n",
      "        1    0.000    0.000    0.501    0.501 <ipython-input-1-5c3dbf5afb25>:4(bad_call)\n",
      "        1    0.000    0.000    1.001    1.001 <ipython-input-1-5c3dbf5afb25>:7(worse_call)\n",
      "        1    0.001    0.001    1.571    1.571 <string>:1(<module>)\n",
      "        1    0.000    0.000    1.572    1.572 {built-in method builtins.exec}\n",
      "        1    0.000    0.000    0.000    0.000 {built-in method builtins.isinstance}\n",
      "        2    1.502    0.751    1.502    0.751 {built-in method time.sleep}\n",
      "        1    0.000    0.000    0.000    0.000 {method 'disable' of '_lsprof.Profiler' objects}\n",
      "        1    0.014    0.014    0.014    0.014 {method 'random_sample' of 'mtrand.RandomState' objects}\n",
      "\n",
      "\n"
     ]
    }
   ],
   "source": [
    "cProfile.run('sumulate(150)')"
   ]
  },
  {
   "cell_type": "markdown",
   "metadata": {},
   "source": [
    "You can see here that when our code `sumulate()` executes, it spends almost all its time in the method `time.sleep` (a bit over 1.5 seconds).\n",
    "\n",
    "If your program is more complicated that this cute demo, you'll have a hard time parsing the long output of `cProfile`. In that case, you may want a profiling visualization tool, like [SnakeViz](https://jiffyclub.github.io/snakeviz/). But that is outside the scope of this tutorial."
   ]
  },
  {
   "cell_type": "markdown",
   "metadata": {},
   "source": [
    "## using `line_profiler`"
   ]
  },
  {
   "cell_type": "markdown",
   "metadata": {},
   "source": [
    "`line_profiler` offers more granular information thatn `cProfile`: it will give timing information about each line of code in a profiled function."
   ]
  },
  {
   "cell_type": "markdown",
   "metadata": {},
   "source": [
    "Load the `line_profiler` extension"
   ]
  },
  {
   "cell_type": "code",
   "execution_count": 5,
   "metadata": {},
   "outputs": [],
   "source": [
    "%load_ext line_profiler"
   ]
  },
  {
   "cell_type": "markdown",
   "metadata": {},
   "source": [
    "### For a pop-up window with results in notebook:"
   ]
  },
  {
   "cell_type": "markdown",
   "metadata": {},
   "source": [
    "IPython has an `%lprun` magic to profile specific functions within an executed statement. Usage:\n",
    "`%lprun -f func_to_profile <statement>` (get more help by running `%lprun?` in IPython)."
   ]
  },
  {
   "cell_type": "markdown",
   "metadata": {},
   "source": [
    "### Profiling two functions"
   ]
  },
  {
   "cell_type": "code",
   "execution_count": 6,
   "metadata": {},
   "outputs": [],
   "source": [
    "%lprun -f bad_call -f worse_call sumulate(13)"
   ]
  },
  {
   "cell_type": "markdown",
   "metadata": {},
   "source": [
    "### Write results to a text file"
   ]
  },
  {
   "cell_type": "code",
   "execution_count": 7,
   "metadata": {},
   "outputs": [
    {
     "name": "stdout",
     "output_type": "stream",
     "text": [
      "\n",
      "*** Profile printout saved to text file 'timings.txt'. \n"
     ]
    }
   ],
   "source": [
    "%lprun -T timings.txt -f sumulate sumulate(12)"
   ]
  },
  {
   "cell_type": "code",
   "execution_count": 8,
   "metadata": {},
   "outputs": [],
   "source": [
    "# %load timings.txt"
   ]
  },
  {
   "cell_type": "markdown",
   "metadata": {},
   "source": [
    "## Profiling on the command line"
   ]
  },
  {
   "cell_type": "markdown",
   "metadata": {},
   "source": [
    "Open file, add `@profile` decorator to any function you want to profile, then run\n",
    "\n",
    "```console\n",
    "kernprof -l script_to_profile.py\n",
    "```\n",
    "\n",
    "which will generate `script_to_profile.py.lprof` (pickled result).  To view the results, run\n",
    "\n",
    "```console\n",
    "python -m line_profiler script_to_profile.py.lprof\n",
    "```"
   ]
  },
  {
   "cell_type": "code",
   "execution_count": 9,
   "metadata": {},
   "outputs": [],
   "source": [
    "from IPython.display import IFrame"
   ]
  },
  {
   "cell_type": "code",
   "execution_count": 15,
   "metadata": {},
   "outputs": [],
   "source": [
    "# IFrame('http://localhost:7000/terminals/1', width=800, height=700)"
   ]
  },
  {
   "cell_type": "markdown",
   "metadata": {},
   "source": [
    "## `timeit`"
   ]
  },
  {
   "cell_type": "markdown",
   "metadata": {},
   "source": [
    "`timeit` is not perfect, but it is helpful.  \n",
    "\n",
    "Potential concerns re: `timeit`\n",
    "\n",
    "* Only runs benchmark 3 times\n",
    "* It disables garbage collection\n",
    "\n",
    "```python\n",
    "python -m timeit -r 25 \"print(42)\"\n",
    "```\n",
    "\n",
    "```python\n",
    "python -m timeit -s \"gc.enable()\" \"print(42)\"\n",
    "```\n",
    "\n",
    "Victor Stinner has a module, `perf`, which is more robust and addresses these concerns. You can check it out at: https://perf.readthedocs.io/en/latest/user_guide.html"
   ]
  },
  {
   "cell_type": "markdown",
   "metadata": {},
   "source": [
    "### Line magic"
   ]
  },
  {
   "cell_type": "code",
   "execution_count": 11,
   "metadata": {},
   "outputs": [
    {
     "name": "stdout",
     "output_type": "stream",
     "text": [
      "14 ns ± 0.998 ns per loop (mean ± std. dev. of 7 runs, 100000000 loops each)\n"
     ]
    }
   ],
   "source": [
    "%timeit x = 5"
   ]
  },
  {
   "cell_type": "markdown",
   "metadata": {},
   "source": [
    "### Cell magic"
   ]
  },
  {
   "cell_type": "code",
   "execution_count": 12,
   "metadata": {},
   "outputs": [
    {
     "name": "stdout",
     "output_type": "stream",
     "text": [
      "37.6 ns ± 0.534 ns per loop (mean ± std. dev. of 7 runs, 10000000 loops each)\n"
     ]
    }
   ],
   "source": [
    "%%timeit\n",
    "x = 5\n",
    "y = 6\n",
    "x + y"
   ]
  },
  {
   "cell_type": "markdown",
   "metadata": {},
   "source": [
    "The `-q` flag quiets output.  The `-o` flag allows outputting results to a variable.  The `-q` flag sometimes disagrees with OSX so please remove it if you're having issues."
   ]
  },
  {
   "cell_type": "code",
   "execution_count": 13,
   "metadata": {},
   "outputs": [],
   "source": [
    "a = %timeit -qo x = 5"
   ]
  },
  {
   "cell_type": "code",
   "execution_count": null,
   "metadata": {},
   "outputs": [],
   "source": []
  }
 ],
 "metadata": {
  "kernelspec": {
   "display_name": "Python 3",
   "language": "python",
   "name": "python3"
  },
  "language_info": {
   "codemirror_mode": {
    "name": "ipython",
    "version": 3
   },
   "file_extension": ".py",
   "mimetype": "text/x-python",
   "name": "python",
   "nbconvert_exporter": "python",
   "pygments_lexer": "ipython3",
   "version": "3.6.5"
  },
  "toc": {
   "nav_menu": {},
   "number_sections": true,
   "sideBar": true,
   "skip_h1_title": false,
   "toc_cell": false,
   "toc_position": {},
   "toc_section_display": "block",
   "toc_window_display": false
  }
 },
 "nbformat": 4,
 "nbformat_minor": 1
}
