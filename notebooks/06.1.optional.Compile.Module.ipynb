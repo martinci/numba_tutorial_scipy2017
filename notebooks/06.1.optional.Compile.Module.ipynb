{
 "cells": [
  {
   "cell_type": "markdown",
   "metadata": {},
   "source": [
    "# Precompiling Numba modules"
   ]
  },
  {
   "cell_type": "markdown",
   "metadata": {},
   "source": [
    "One issue with Numba is that it can be hard to install.  With `conda` it's incredibly easy, but not everybody uses `conda` and trying to explain to users/collaborators why they're doing everything wrong is hard.  \n",
    "\n",
    "Tools like SWIG can compile C/C++ (or other) code at install time and make it available as a Python module if there's some serious numerical heavy-lifting required.  \n",
    "\n",
    "But if you have ever tried to use SWIG together with NumPy... suffice to say it's a less than ideal arrangement (please don't hurt me, @dabeaz)."
   ]
  },
  {
   "cell_type": "markdown",
   "metadata": {
    "collapsed": true
   },
   "source": [
    "## Ahead-of-Time compilation\n",
    "\n",
    "While Numba's main use is in JIT compiling, they do provide tools for doing AOT compilation.  This pre-compiled module does not rely on Numba, only on NumPy.  (If you are working with collaborators who don't have NumPy installed, I can't help you)."
   ]
  },
  {
   "cell_type": "markdown",
   "metadata": {},
   "source": [
    "We need to import `numpy`, of course, and also `numba.pycc.CC`"
   ]
  },
  {
   "cell_type": "code",
   "execution_count": 9,
   "metadata": {},
   "outputs": [],
   "source": [
    "import numpy\n",
    "from math import sqrt\n",
    "from numba.pycc import CC"
   ]
  },
  {
   "cell_type": "markdown",
   "metadata": {},
   "source": [
    "Name the module `ppe` (I am not creative)"
   ]
  },
  {
   "cell_type": "code",
   "execution_count": 10,
   "metadata": {},
   "outputs": [],
   "source": [
    "cc = CC('ppe')\n",
    "cc.verbose = True"
   ]
  },
  {
   "cell_type": "code",
   "execution_count": 11,
   "metadata": {},
   "outputs": [],
   "source": [
    "@cc.export('pressure_poisson', \n",
    "           'f8[:,:](f8[:,:], f8[:,:], f8)')\n",
    "def pressure_poisson(p, b, l2_target):\n",
    "    I, J = b.shape\n",
    "\n",
    "    iter_diff = l2_target + 1\n",
    "\n",
    "    n = 0\n",
    "    while iter_diff > l2_target and n <= 500:\n",
    "        pn = p.copy()\n",
    "        for i in range(1, I - 1):\n",
    "            for j in range(1, J - 1):\n",
    "                p[i, j] = (.25 * (pn[i, j + 1] +\n",
    "                                  pn[i, j - 1] +\n",
    "                                  pn[i + 1, j] +\n",
    "                                  pn[i - 1, j]) -\n",
    "                                  b[i, j])\n",
    "\n",
    "        for i in range(I):\n",
    "            p[i, 0] = p[i, 1]\n",
    "            p[i, -1] = 0\n",
    "\n",
    "        for j in range(J):\n",
    "            p[0, j] = p[1, j]\n",
    "            p[-1, j] = p[-2, j]\n",
    "\n",
    "        if n % 10 == 0:\n",
    "            iter_diff = sqrt(numpy.sum((p - pn)**2)/numpy.sum(pn**2))\n",
    "\n",
    "        n += 1\n",
    "\n",
    "    return p\n"
   ]
  },
  {
   "cell_type": "code",
   "execution_count": 12,
   "metadata": {},
   "outputs": [],
   "source": [
    "@cc.export('test', '()')\n",
    "def test():\n",
    "    print(\"I'm inside a .so file, send help!\")"
   ]
  },
  {
   "cell_type": "markdown",
   "metadata": {},
   "source": [
    "**Note:** Each function in the module can be compiled with one type signature only.  You can specify multiple types, each with its own function name, e.g.\n",
    "\n",
    "```python\n",
    "@cc.export('pressure_poisson_single', \n",
    "           'f4[:,:](f4[:,:], f4[:,:], f4)')\n",
    "@cc.export('pressure_poisson_double', \n",
    "           'f8[:,:](f8[:,:], f8[:,:], f8)')\n",
    "@cc.export('pressure_poisson_quad', \n",
    "           'f16[:,:](f16[:,:], f16[:,:], f16)')\n",
    "def pressure_poisson(p, b, l2_target=1e-4):\n",
    "```"
   ]
  },
  {
   "cell_type": "code",
   "execution_count": 13,
   "metadata": {},
   "outputs": [
    {
     "name": "stdout",
     "output_type": "stream",
     "text": [
      "generating LLVM code for 'ppe' into /tmp/pycc-build-ppe-df6bt4cz/ppe.cpython-36m-x86_64-linux-gnu.o\n",
      "C compiler: gcc -pthread -B /home/martinci/.local/share/anaconda3/compiler_compat -Wl,--sysroot=/ -Wsign-compare -DNDEBUG -g -fwrapv -O3 -Wall -Wstrict-prototypes -fPIC\n",
      "\n",
      "creating /tmp/pycc-build-ppe-df6bt4cz/home\n",
      "creating /tmp/pycc-build-ppe-df6bt4cz/home/martinci\n",
      "creating /tmp/pycc-build-ppe-df6bt4cz/home/martinci/.local\n",
      "creating /tmp/pycc-build-ppe-df6bt4cz/home/martinci/.local/share\n",
      "creating /tmp/pycc-build-ppe-df6bt4cz/home/martinci/.local/share/anaconda3\n",
      "creating /tmp/pycc-build-ppe-df6bt4cz/home/martinci/.local/share/anaconda3/lib\n",
      "creating /tmp/pycc-build-ppe-df6bt4cz/home/martinci/.local/share/anaconda3/lib/python3.6\n",
      "creating /tmp/pycc-build-ppe-df6bt4cz/home/martinci/.local/share/anaconda3/lib/python3.6/site-packages\n",
      "creating /tmp/pycc-build-ppe-df6bt4cz/home/martinci/.local/share/anaconda3/lib/python3.6/site-packages/numba\n",
      "creating /tmp/pycc-build-ppe-df6bt4cz/home/martinci/.local/share/anaconda3/lib/python3.6/site-packages/numba/pycc\n",
      "creating /tmp/pycc-build-ppe-df6bt4cz/home/martinci/.local/share/anaconda3/lib/python3.6/site-packages/numba/runtime\n",
      "compile options: '-DPYCC_MODULE_NAME=ppe -DPYCC_USE_NRT=1 -I/home/martinci/.local/share/anaconda3/include/python3.6m -I/home/martinci/.local/share/anaconda3/lib/python3.6/site-packages/numpy/core/include -c'\n",
      "gcc: /home/martinci/.local/share/anaconda3/lib/python3.6/site-packages/numba/pycc/modulemixin.c\n",
      "gcc: /home/martinci/.local/share/anaconda3/lib/python3.6/site-packages/numba/pycc/../_math_c99.c\n",
      "gcc: /home/martinci/.local/share/anaconda3/lib/python3.6/site-packages/numba/pycc/../runtime/nrt.c\n",
      "gcc -pthread -shared -B /home/martinci/.local/share/anaconda3/compiler_compat -L/home/martinci/.local/share/anaconda3/lib -Wl,-rpath=/home/martinci/.local/share/anaconda3/lib -Wl,--no-as-needed -Wl,--sysroot=/ /tmp/pycc-build-ppe-df6bt4cz/ppe.cpython-36m-x86_64-linux-gnu.o /tmp/pycc-build-ppe-df6bt4cz/home/martinci/.local/share/anaconda3/lib/python3.6/site-packages/numba/pycc/modulemixin.o /tmp/pycc-build-ppe-df6bt4cz/home/martinci/.local/share/anaconda3/lib/python3.6/site-packages/numba/_math_c99.o /tmp/pycc-build-ppe-df6bt4cz/home/martinci/.local/share/anaconda3/lib/python3.6/site-packages/numba/runtime/nrt.o -L/home/martinci/.local/share/anaconda3/lib/python3.6/site-packages/numpy/core/lib -lnpymath -lm -o ppe.cpython-36m-x86_64-linux-gnu.so\n"
     ]
    }
   ],
   "source": [
    "cc.compile()"
   ]
  },
  {
   "cell_type": "code",
   "execution_count": 14,
   "metadata": {},
   "outputs": [
    {
     "name": "stdout",
     "output_type": "stream",
     "text": [
      "01.When.where.to.use.Numba.ipynb\r\n",
      "02.Intro.to.jit.ipynb\r\n",
      "03.How.Numba.Works.ipynb\r\n",
      "04.Direct.Summation.ipynb\r\n",
      "05.0.A.Breakneck.Introduction.to.CFD.ipynb\r\n",
      "05.1.Cavity_Flow.ipynb\r\n",
      "05.2.optional.Numba.v.Cython.v.Fortran.ipynb\r\n",
      "06.1.optional.Compile.Module.ipynb\r\n",
      "06.2.optional.Test.Compiled.Module.ipynb\r\n",
      "07.Make.your.own.ufuncs.ipynb\r\n",
      "08.Make.generalized.ufuncs.ipynb\r\n",
      "09.Tips.and.FAQ.ipynb\r\n",
      "10.optional.Numba.and.ipyparallel.ipynb\r\n",
      "11.optional.jit.parallel.ipynb\r\n",
      "bad_script.py\r\n",
      "\u001b[0m\u001b[01;34mexercises\u001b[0m/\r\n",
      "fail.html\r\n",
      "\u001b[01;34mfigures\u001b[0m/\r\n",
      "IC.pickle\r\n",
      "loop.lifting.ipynb\r\n",
      "nopython_failure.py\r\n",
      "numpy_ans.pickle\r\n",
      "\u001b[01;32mppe.cpython-36m-x86_64-linux-gnu.so\u001b[0m*\r\n",
      "\u001b[01;34msnippets\u001b[0m/\r\n",
      "timings.txt\r\n"
     ]
    }
   ],
   "source": [
    "%ls"
   ]
  },
  {
   "cell_type": "code",
   "execution_count": 15,
   "metadata": {},
   "outputs": [],
   "source": [
    "from ppe import test"
   ]
  },
  {
   "cell_type": "code",
   "execution_count": 16,
   "metadata": {},
   "outputs": [
    {
     "name": "stdout",
     "output_type": "stream",
     "text": [
      "I'm inside a .so file. Send help!\n"
     ]
    }
   ],
   "source": [
    "test()"
   ]
  },
  {
   "cell_type": "code",
   "execution_count": null,
   "metadata": {},
   "outputs": [],
   "source": []
  }
 ],
 "metadata": {
  "kernelspec": {
   "display_name": "Python 3",
   "language": "python",
   "name": "python3"
  },
  "language_info": {
   "codemirror_mode": {
    "name": "ipython",
    "version": 3
   },
   "file_extension": ".py",
   "mimetype": "text/x-python",
   "name": "python",
   "nbconvert_exporter": "python",
   "pygments_lexer": "ipython3",
   "version": "3.6.5"
  },
  "toc": {
   "nav_menu": {},
   "number_sections": true,
   "sideBar": true,
   "skip_h1_title": false,
   "toc_cell": false,
   "toc_position": {},
   "toc_section_display": "block",
   "toc_window_display": false
  }
 },
 "nbformat": 4,
 "nbformat_minor": 1
}
