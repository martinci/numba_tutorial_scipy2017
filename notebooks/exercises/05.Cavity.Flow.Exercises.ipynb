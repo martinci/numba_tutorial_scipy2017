{
 "cells": [
  {
   "cell_type": "markdown",
   "metadata": {},
   "source": [
    "# Exercise 1\n",
    "## JIT the pressure poisson equation\n",
    "The equation we need to unroll is given by \n",
    "\n",
    "\\begin{equation}\n",
    "p_{i,j}^{n} = \\frac{1}{4}\\left(p_{i+1,j}^{n}+p_{i-1,j}^{n}+p_{i,j+1}^{n}+p_{i,j-1}^{n}\\right) - b\n",
    "\\end{equation}\n",
    "\n",
    "and recall that `b` is already computed, so no need to worry about unrolling that.  We've also filled in the boundary conditions, so don't worry about those.  (don't forget to decorate your function!)"
   ]
  },
  {
   "cell_type": "code",
   "execution_count": 1,
   "metadata": {},
   "outputs": [],
   "source": [
    "import numpy\n",
    "from numba import jit"
   ]
  },
  {
   "cell_type": "code",
   "execution_count": 2,
   "metadata": {},
   "outputs": [],
   "source": [
    "@jit\n",
    "def pressure_poisson(p, b, l2_target=1e-4):\n",
    "    I, J = b.shape\n",
    "        \n",
    "    iter_diff = l2_target + 1\n",
    "    n = 0\n",
    "    while iter_diff > l2_target and n <= 500:\n",
    "        pn = p.copy()\n",
    "        \n",
    "        #Your code here\n",
    "        for i in range(1, I-1):\n",
    "            for j in range(1, J-1):\n",
    "                p_ = pn[i+1, j] + pn[i-1, j] + pn[i, j+1] + pn[i, j-1]\n",
    "                p[i, j] = 0.25 * p_ - b[i, j]\n",
    "        \n",
    "        #boundary conditions\n",
    "        for i in range(I):\n",
    "            p[i, 0] = p[i, 1]\n",
    "            p[i, -1] = 0\n",
    "\n",
    "        for j in range(J):\n",
    "            p[0, j] = p[1, j]\n",
    "            p[-1, j] = p[-2, j]\n",
    "\n",
    "        if n % 10 == 0:\n",
    "            iter_diff = numpy.sqrt(numpy.sum((p - pn)**2)/numpy.sum(pn**2))\n",
    "            \n",
    "        n += 1\n",
    "        \n",
    "    return p"
   ]
  },
  {
   "cell_type": "code",
   "execution_count": 3,
   "metadata": {},
   "outputs": [],
   "source": [
    "import pickle\n",
    "from snippets.ns_helper import cavity_flow, velocity_term, quiver_plot"
   ]
  },
  {
   "cell_type": "code",
   "execution_count": 4,
   "metadata": {},
   "outputs": [],
   "source": [
    "def run_cavity():\n",
    "    nx = 41\n",
    "    ny = 41\n",
    "    with open('../IC.pickle', 'rb') as f:\n",
    "        u, v, p, b = pickle.load(f)\n",
    "\n",
    "    dx = 2 / (nx - 1)\n",
    "    dt = .005\n",
    "    nt = 1000\n",
    "    \n",
    "    u, v, p = cavity_flow(u, v, p, nt, dt, dx,\n",
    "                         velocity_term,\n",
    "                         pressure_poisson,\n",
    "                         rtol=1e-4)\n",
    "\n",
    "    return u, v, p"
   ]
  },
  {
   "cell_type": "code",
   "execution_count": 5,
   "metadata": {},
   "outputs": [],
   "source": [
    "un, vn, pn = run_cavity()"
   ]
  },
  {
   "cell_type": "code",
   "execution_count": 6,
   "metadata": {},
   "outputs": [
    {
     "name": "stdout",
     "output_type": "stream",
     "text": [
      "261 ms ± 4.22 ms per loop (mean ± std. dev. of 7 runs, 1 loop each)\n"
     ]
    }
   ],
   "source": [
    "%timeit run_cavity()"
   ]
  },
  {
   "cell_type": "code",
   "execution_count": 7,
   "metadata": {},
   "outputs": [],
   "source": [
    "with open('../numpy_ans.pickle', 'rb') as f:\n",
    "    u, v, p = pickle.load(f)"
   ]
  },
  {
   "cell_type": "code",
   "execution_count": 8,
   "metadata": {},
   "outputs": [],
   "source": [
    "assert numpy.allclose(u, un)\n",
    "assert numpy.allclose(v, vn)\n",
    "assert numpy.allclose(p, pn)"
   ]
  },
  {
   "cell_type": "markdown",
   "metadata": {},
   "source": [
    "# Exercise 2 (optional)\n",
    "\n",
    "Finish early?  Just want to try more stuff?  \n",
    "\n",
    "This line is not super efficient: \n",
    "\n",
    "```python\n",
    "iter_diff = numpy.sqrt(numpy.sum((p - pn)**2)/numpy.sum(pn**2))\n",
    "```\n",
    "\n",
    "Try rewriting it using a jitted function and see what kind of performance gain you can get."
   ]
  },
  {
   "cell_type": "code",
   "execution_count": 9,
   "metadata": {},
   "outputs": [],
   "source": [
    "@jit\n",
    "def compute_iter_diff(p, pn):\n",
    "    I, J = p.shape\n",
    "    num = 0\n",
    "    denom = 0\n",
    "    for i in range(I):\n",
    "        for j in range(J):\n",
    "            num += (p[i, j] - pn[i, j])**2\n",
    "            denom += pn[i, j]**2\n",
    "    iter_diff = (num / denom)**.5\n",
    "    return iter_diff"
   ]
  },
  {
   "cell_type": "code",
   "execution_count": 10,
   "metadata": {},
   "outputs": [],
   "source": [
    "@jit\n",
    "def pressure_poisson(p, b, l2_target=1e-4):\n",
    "    I, J = b.shape\n",
    "        \n",
    "    iter_diff = l2_target + 1\n",
    "    n = 0\n",
    "    while iter_diff > l2_target and n <= 500:\n",
    "        pn = p.copy()\n",
    "        \n",
    "        #Your code here\n",
    "        for i in range(1, I-1):\n",
    "            for j in range(1, J-1):\n",
    "                p_ = pn[i+1, j] + pn[i-1, j] + pn[i, j+1] + pn[i, j-1]\n",
    "                p[i, j] = 0.25 * p_ - b[i, j]\n",
    "        \n",
    "        #boundary conditions\n",
    "        for i in range(I):\n",
    "            p[i, 0] = p[i, 1]\n",
    "            p[i, -1] = 0\n",
    "\n",
    "        for j in range(J):\n",
    "            p[0, j] = p[1, j]\n",
    "            p[-1, j] = p[-2, j]\n",
    "\n",
    "        if n % 10 == 0:\n",
    "            iter_diff = compute_iter_diff(p, pn)\n",
    "            \n",
    "        n += 1\n",
    "        \n",
    "    return p"
   ]
  },
  {
   "cell_type": "code",
   "execution_count": 11,
   "metadata": {},
   "outputs": [
    {
     "name": "stdout",
     "output_type": "stream",
     "text": [
      "249 ms ± 2.28 ms per loop (mean ± std. dev. of 7 runs, 1 loop each)\n"
     ]
    }
   ],
   "source": [
    "%timeit run_cavity()"
   ]
  },
  {
   "cell_type": "code",
   "execution_count": 12,
   "metadata": {},
   "outputs": [],
   "source": [
    "assert numpy.allclose(u, un)\n",
    "assert numpy.allclose(v, vn)\n",
    "assert numpy.allclose(p, pn)"
   ]
  },
  {
   "cell_type": "code",
   "execution_count": null,
   "metadata": {},
   "outputs": [],
   "source": []
  }
 ],
 "metadata": {
  "kernelspec": {
   "display_name": "Python 3",
   "language": "python",
   "name": "python3"
  },
  "language_info": {
   "codemirror_mode": {
    "name": "ipython",
    "version": 3
   },
   "file_extension": ".py",
   "mimetype": "text/x-python",
   "name": "python",
   "nbconvert_exporter": "python",
   "pygments_lexer": "ipython3",
   "version": "3.6.5"
  },
  "toc": {
   "nav_menu": {},
   "number_sections": true,
   "sideBar": true,
   "skip_h1_title": false,
   "toc_cell": false,
   "toc_position": {},
   "toc_section_display": "block",
   "toc_window_display": false
  }
 },
 "nbformat": 4,
 "nbformat_minor": 1
}
