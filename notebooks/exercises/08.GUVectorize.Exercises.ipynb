{
 "cells": [
  {
   "cell_type": "markdown",
   "metadata": {},
   "source": [
    "# Exercise: 2D Heat Transfer signature"
   ]
  },
  {
   "cell_type": "markdown",
   "metadata": {},
   "source": [
    "Below is a function `ftcs` that uses second-order finite differences to solve a heat transfer problem.  \n",
    "\n",
    "Add the `guvectorize` decorator (or function call!) with the appropriate signature and input/output layout so that the code block runs.  \n",
    "The types of the arguments are:\n",
    "\n",
    "1. `T` - 2d array of floats\n",
    "2. `alpha` - float\n",
    "3. `dt` - float\n",
    "4. `dx` - float\n",
    "5. `nt` - int\n",
    "6. `Tn` - 2d array of floats\n",
    "\n",
    "`T` and `Tn` have the same dimensions and are square."
   ]
  },
  {
   "cell_type": "code",
   "execution_count": 2,
   "metadata": {},
   "outputs": [],
   "source": [
    "import numpy\n",
    "from numba import guvectorize, jit"
   ]
  },
  {
   "cell_type": "code",
   "execution_count": 3,
   "metadata": {},
   "outputs": [],
   "source": [
    "def ftcs(T, alpha, dt, dx, Tn):\n",
    "    I, J = T.shape\n",
    "    for i in range(1, I - 1):\n",
    "        for j in range(1, J - 1):\n",
    "            Tn[i, j] = (T[i, j] + \n",
    "                      alpha * \n",
    "                      (dt / dx**2 * (T[i + 1, j] - 2 * T[i, j] + T[i - 1, j]) + \n",
    "                       dt / dx**2 * (T[i, j + 1] - 2 * T[i, j] + T[i, j - 1])))\n",
    "\n",
    "    for i in range(I):\n",
    "        Tn[i, 0] = T[i, 0]\n",
    "        Tn[i, J - 1] = Tn[i, J - 2]\n",
    "\n",
    "    for j in range(J):\n",
    "        Tn[0, j] = T[0, j]\n",
    "        Tn[I - 1, j] = Tn[I - 2, j]"
   ]
  },
  {
   "cell_type": "code",
   "execution_count": 4,
   "metadata": {},
   "outputs": [],
   "source": [
    "def run_ftcs():\n",
    "    L = 1.0e-2\n",
    "    nx = 101\n",
    "    nt = 1000\n",
    "    dx = L / (nx - 1)\n",
    "    x = numpy.linspace(0, L, nx)\n",
    "    alpha = .0001\n",
    "    sigma = 0.25\n",
    "    dt = sigma * dx**2 / alpha\n",
    "\n",
    "    Ti = numpy.ones((nx, nx), dtype=numpy.float64)\n",
    "    Ti[0,:]= 100\n",
    "    Ti[:,0] = 100\n",
    "\n",
    "    for t in range(nt):\n",
    "        Tn = ftcs(Ti, alpha, dt, dx)\n",
    "        Ti = Tn.copy()\n",
    "        \n",
    "    return Tn, x"
   ]
  },
  {
   "cell_type": "code",
   "execution_count": 5,
   "metadata": {},
   "outputs": [],
   "source": [
    "# %load snippets/guvectorize/ht_signature.py\n",
    "@guvectorize(['float64[:,:], float64, float64, float64, float64[:,:]'], \n",
    "            '(m,m),(),(),()->(m,m)', nopython=True)\n",
    "def ftcs(T, alpha, dt, dx, Tn):\n",
    "    I, J = T.shape\n",
    "    for i in range(1, I - 1):\n",
    "        for j in range(1, J - 1):\n",
    "            Tn[i, j] = (T[i, j] + \n",
    "                      alpha * \n",
    "                      (dt / dx**2 * (T[i + 1, j] - 2 * T[i, j] + T[i - 1, j]) + \n",
    "                       dt / dx**2 * (T[i, j + 1] - 2 * T[i, j] + T[i, j - 1])))\n",
    "\n",
    "    for i in range(I):\n",
    "        Tn[i, 0] = T[i, 0]\n",
    "        Tn[i, J - 1] = Tn[i, J - 2]\n",
    "\n",
    "    for j in range(J):\n",
    "        Tn[0, j] = T[0, j]\n",
    "        Tn[I - 1, j] = Tn[I - 2, j]"
   ]
  },
  {
   "cell_type": "code",
   "execution_count": 6,
   "metadata": {},
   "outputs": [],
   "source": [
    "Tn, x = run_ftcs()"
   ]
  },
  {
   "cell_type": "code",
   "execution_count": 7,
   "metadata": {},
   "outputs": [
    {
     "name": "stdout",
     "output_type": "stream",
     "text": [
      "41.6 ms ± 3.53 ms per loop (mean ± std. dev. of 7 runs, 10 loops each)\n"
     ]
    }
   ],
   "source": [
    "%timeit run_ftcs()"
   ]
  },
  {
   "cell_type": "code",
   "execution_count": 8,
   "metadata": {},
   "outputs": [],
   "source": [
    "from matplotlib import pyplot, cm\n",
    "%matplotlib inline"
   ]
  },
  {
   "cell_type": "code",
   "execution_count": 9,
   "metadata": {},
   "outputs": [
    {
     "data": {
      "image/png": "[encoded data removed]",
      "text/plain": [
       "<Figure size 576x576 with 1 Axes>"
      ]
     },
     "metadata": {},
     "output_type": "display_data"
    }
   ],
   "source": [
    "pyplot.figure(figsize=(8, 8))\n",
    "mx, my = numpy.meshgrid(x, x, indexing='ij')\n",
    "pyplot.contourf(mx, my, Tn, 20, cmap=cm.viridis)\n",
    "pyplot.axis('equal');"
   ]
  },
  {
   "cell_type": "markdown",
   "metadata": {},
   "source": [
    "# Exercise: 2D Heat Transfer Time loop"
   ]
  },
  {
   "cell_type": "markdown",
   "metadata": {},
   "source": [
    "The example above loops in time outside of the `vectorize`d function.  That means it's looping in vanilla Python which is not the fastest thing in the world.  \n",
    "\n",
    "What to do?  \n",
    "\n",
    "Let's move the time loop inside the function.\n",
    "\n",
    "You need to modify the parameter list to include the number of timesteps, `nt`, add the `guvectorize` decorator, and also adjust the signature according to the new paramters.  \n",
    "\n",
    "Make sure to add the `copy()` statement within the time loop."
   ]
  },
  {
   "cell_type": "code",
   "execution_count": 10,
   "metadata": {},
   "outputs": [],
   "source": [
    "def ftcs_loop(T, alpha, dt, dx, Tn):\n",
    "    I, J = T.shape\n",
    "    for i in range(1, I - 1):\n",
    "        for j in range(1, J - 1):\n",
    "            Tn[i, j] = (T[i, j] + \n",
    "                      alpha * \n",
    "                      (dt / dx**2 * (T[i + 1, j] - 2 * T[i, j] + T[i - 1, j]) + \n",
    "                       dt / dx**2 * (T[i, j + 1] - 2 * T[i, j] + T[i, j - 1])))\n",
    "\n",
    "    for i in range(I):\n",
    "        Tn[i, 0] = T[i, 0]\n",
    "        Tn[i, J - 1] = Tn[i, J - 2]\n",
    "\n",
    "    for j in range(J):\n",
    "        Tn[0, j] = T[0, j]\n",
    "        Tn[I - 1, j] = Tn[I - 2, j]"
   ]
  },
  {
   "cell_type": "code",
   "execution_count": 15,
   "metadata": {},
   "outputs": [],
   "source": [
    "def run_ftcs_vecloop():\n",
    "    L = 1.0e-2\n",
    "    nx = 101\n",
    "    nt = 1000\n",
    "    dx = L / (nx - 1)\n",
    "    x = numpy.linspace(0, L, nx)\n",
    "    alpha = .0001\n",
    "    sigma = 0.25\n",
    "    dt = sigma * dx**2 / alpha\n",
    "\n",
    "    Ti = numpy.ones((nx, nx), dtype=numpy.float64)\n",
    "    Ti[0,:]= 100\n",
    "    Ti[:,0] = 100\n",
    "\n",
    "    Tn = ftcs_loop(Ti, alpha, dt, dx, nt)\n",
    "    \n",
    "    return Tn, x"
   ]
  },
  {
   "cell_type": "code",
   "execution_count": 16,
   "metadata": {},
   "outputs": [],
   "source": [
    "# %load snippets/guvectorize/ht_timeloop.py\n",
    "@guvectorize(['float64[:,:], float64, float64, float64, int64, float64[:,:]'], \n",
    "            '(m,m),(),(),(),()->(m,m)', nopython=True)\n",
    "def ftcs_loop(T, alpha, dt, dx, nt, Tn):\n",
    "    I, J = T.shape\n",
    "    for n in range(nt):\n",
    "        for i in range(1, I - 1):\n",
    "            for j in range(1, J - 1):\n",
    "                Tn[i,j] = (T[i, j] + \n",
    "                          alpha * \n",
    "                          (dt/dx**2 * (T[i + 1, j] - 2*T[i, j] + T[i - 1, j]) + \n",
    "                           dt/dx**2 * (T[i, j + 1] - 2*T[i, j] + T[i, j - 1])))\n",
    "\n",
    "        for i in range(I):\n",
    "            Tn[i, 0] = T[i, 0]\n",
    "            Tn[i, J - 1] = Tn[i, J - 2]\n",
    "\n",
    "        for j in range(J):\n",
    "            Tn[0, j] = T[0, j]\n",
    "            Tn[I - 1, j] = Tn[I - 2, j]\n",
    "\n",
    "        T = Tn.copy()"
   ]
  },
  {
   "cell_type": "code",
   "execution_count": 17,
   "metadata": {},
   "outputs": [],
   "source": [
    "Tn, x = run_ftcs_vecloop()"
   ]
  },
  {
   "cell_type": "code",
   "execution_count": 18,
   "metadata": {},
   "outputs": [
    {
     "name": "stdout",
     "output_type": "stream",
     "text": [
      "36.2 ms ± 2.17 ms per loop (mean ± std. dev. of 7 runs, 10 loops each)\n"
     ]
    }
   ],
   "source": [
    "%timeit run_ftcs_vecloop()"
   ]
  },
  {
   "cell_type": "code",
   "execution_count": 19,
   "metadata": {},
   "outputs": [
    {
     "data": {
      "image/png": "[encoded data removed]",
      "text/plain": [
       "<Figure size 576x576 with 1 Axes>"
      ]
     },
     "metadata": {},
     "output_type": "display_data"
    }
   ],
   "source": [
    "pyplot.figure(figsize=(8, 8))\n",
    "pyplot.contourf(mx, my, Tn, 20, cmap=cm.viridis)\n",
    "pyplot.axis('equal');"
   ]
  },
  {
   "cell_type": "code",
   "execution_count": null,
   "metadata": {},
   "outputs": [],
   "source": []
  }
 ],
 "metadata": {
  "kernelspec": {
   "display_name": "Python 3",
   "language": "python",
   "name": "python3"
  },
  "language_info": {
   "codemirror_mode": {
    "name": "ipython",
    "version": 3
   },
   "file_extension": ".py",
   "mimetype": "text/x-python",
   "name": "python",
   "nbconvert_exporter": "python",
   "pygments_lexer": "ipython3",
   "version": "3.6.5"
  },
  "toc": {
   "nav_menu": {},
   "number_sections": true,
   "sideBar": true,
   "skip_h1_title": false,
   "toc_cell": false,
   "toc_position": {},
   "toc_section_display": "block",
   "toc_window_display": false
  }
 },
 "nbformat": 4,
 "nbformat_minor": 1
}
